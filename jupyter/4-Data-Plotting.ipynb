{
 "cells": [
  {
   "cell_type": "code",
   "execution_count": 25,
   "metadata": {},
   "outputs": [
    {
     "data": {
      "application/vnd.jupyter.widget-view+json": {
       "model_id": "",
       "version_major": 2,
       "version_minor": 0
      },
      "method": "display_data"
     },
     "metadata": {},
     "output_type": "display_data"
    },
    {
     "name": "stderr",
     "output_type": "stream",
     "text": [
      "Could not resolve dependencies for:\n",
      "com.github.tototoshi : scala-csv_2.11 : 1.3.6 : jar\n",
      "com.cibo : evilplot_2.11 : 0.6.3 : jar\n"
     ]
    }
   ],
   "source": [
    "%%classpath add mvn\n",
    "com.github.tototoshi scala-csv_2.11 1.3.6\n",
    "com.cibo \"evilplot_2.11\" \"0.6.3\""
   ]
  },
  {
   "cell_type": "code",
   "execution_count": 23,
   "metadata": {},
   "outputs": [
    {
     "data": {
      "application/vnd.jupyter.widget-view+json": {
       "model_id": "",
       "version_major": 2,
       "version_minor": 0
      },
      "method": "display_data"
     },
     "metadata": {},
     "output_type": "display_data"
    },
    {
     "name": "stderr",
     "output_type": "stream",
     "text": [
      "Could not resolve dependencies for:\n",
      "com.cibo : evilplot_2.11 : 0.6.3 : jar\n"
     ]
    }
   ],
   "source": [
    "%%classpath add mvn\n"
   ]
  },
  {
   "cell_type": "code",
   "execution_count": 15,
   "metadata": {},
   "outputs": [
    {
     "data": {
      "text/plain": [
       "import com.github.tototoshi.csv._\n",
       "import java.io.File\n"
      ]
     },
     "execution_count": 15,
     "metadata": {},
     "output_type": "execute_result"
    }
   ],
   "source": [
    "import com.github.tototoshi.csv._\n",
    "import java.io.File "
   ]
  },
  {
   "cell_type": "code",
   "execution_count": 16,
   "metadata": {},
   "outputs": [
    {
     "data": {
      "text/plain": [
       "com.github.tototoshi.csv.CSVReader@5d3fd76c"
      ]
     },
     "execution_count": 16,
     "metadata": {},
     "output_type": "execute_result"
    }
   ],
   "source": [
    "val reader = CSVReader.open(new File(\"data/example-plot-data.csv\"))"
   ]
  },
  {
   "cell_type": "code",
   "execution_count": 18,
   "metadata": {},
   "outputs": [
    {
     "data": {
      "text/plain": [
       "[[Map(lot -> Lot_001, tool -> tool_a, value -> 0.069104801722831, datetime -> 2020-01-01), Map(lot -> Lot_002, tool -> tool_b, value -> 0.544191425470088, datetime -> 2020-01-02), Map(lot -> Lot_003, tool -> tool_a, value -> 0.319340607452438, datetime -> 2020-01-03), Map(lot -> Lot_004, tool -> tool_a, value -> 0.160964146042502, datetime -> 2020-01-04), Map(lot -> Lot_005, tool -> tool_a, value -> 0.382191201574432, datetime -> 2020-01-05), Map(lot -> Lot_006, tool -> tool_a, value -> 0.473306815503057, datetime -> 2020-01-06), Map(lot -> Lot_007, tool -> tool_b, value -> 0.107233391390507, datetime -> 2020-01-07), Map(lot -> Lot_008, tool -> tool_b, value -> 0.984786706604881, datetime -> 2020-01-08), Map(lot -> Lot_009, tool -> tool_a, value -> 0.015738930596697, datetime -> 2020-01-09), Map(lot -> Lot_010, tool -> tool_a, value -> 0.259156191998598, datetime -> 2020-01-10), Map(lot -> Lot_011, tool -> tool_b, value -> 0.220129656298032, datetime -> 2020-01-11), Map(lot -> Lot_012, tool -> tool_b, value -> 0.883490724418138, datetime -> 2020-01-12), Map(lot -> Lot_013, tool -> tool_b, value -> 0.629467090555394, datetime -> 2020-01-13), Map(lot -> Lot_014, tool -> tool_b, value -> 0.239290389167752, datetime -> 2020-01-14), Map(lot -> Lot_015, tool -> tool_a, value -> 0.79788895058424, datetime -> 2020-01-15), Map(lot -> Lot_016, tool -> tool_b, value -> 0.852200178439228, datetime -> 2020-01-16), Map(lot -> Lot_017, tool -> tool_a, value -> 0.343325762285102, datetime -> 2020-01-17), Map(lot -> Lot_018, tool -> tool_b, value -> 0.9232866004849, datetime -> 2020-01-18), Map(lot -> Lot_019, tool -> tool_b, value -> 0.675035390748028, datetime -> 2020-01-19), Map(lot -> Lot_020, tool -> tool_a, value -> 0.209146402614916, datetime -> 2020-01-20), Map(lot -> Lot_021, tool -> tool_a, value -> 0.760664543731761, datetime -> 2020-01-21), Map(lot -> Lot_022, tool -> tool_a, value -> 0.119097049503339, datetime -> 2020-01-22), Map(lot -> Lot_023, tool -> tool_b, value -> 0.371477568438185, datetime -> 2020-01-23), Map(lot -> Lot_024, tool -> tool_b, value -> 0.043889518154788, datetime -> 2020-01-24), Map(lot -> Lot_025, tool -> tool_a, value -> 0.909137595107959, datetime -> 2020-01-25), Map(lot -> Lot_026, tool -> tool_a, value -> 0.466385472567575, datetime -> 2020-01-26), Map(lot -> Lot_027, tool -> tool_a, value -> 0.390930185130102, datetime -> 2020-01-27), Map(lot -> Lot_028, tool -> tool_b, value -> 0.573701909915103, datetime -> 2020-01-28), Map(lot -> Lot_029, tool -> tool_a, value -> 0.552653986583907, datetime -> 2020-01-29), Map(lot -> Lot_030, tool -> tool_b, value -> 0.073148829477685, datetime -> 2020-01-30), Map(lot -> Lot_031, tool -> tool_b, value -> 0.209527608627104, datetime -> 2020-01-31), Map(lot -> Lot_032, tool -> tool_a, value -> 0.707110954575901, datetime -> 2020-02-01), Map(lot -> Lot_033, tool -> tool_b, value -> 0.296696315921664, datetime -> 2020-02-02), Map(lot -> Lot_034, tool -> tool_a, value -> 0.353452325726142, datetime -> 2020-02-03), Map(lot -> Lot_035, tool -> tool_a, value -> 0.900218952404215, datetime -> 2020-02-04), Map(lot -> Lot_036, tool -> tool_a, value -> 0.46177778160769, datetime -> 2020-02-05), Map(lot -> Lot_037, tool -> tool_b, value -> 0.386776683877373, datetime -> 2020-02-06), Map(lot -> Lot_038, tool -> tool_a, value -> 0.518612605070076, datetime -> 2020-02-07), Map(lot -> Lot_039, tool -> tool_b, value -> 0.436162874743807, datetime -> 2020-02-08), Map(lot -> Lot_040, tool -> tool_a, value -> 0.626755317005535, datetime -> 2020-02-09), Map(lot -> Lot_041, tool -> tool_a, value -> 0.523663534745202, datetime -> 2020-02-10), Map(lot -> Lot_042, tool -> tool_a, value -> 0.889492791592886, datetime -> 2020-02-11), Map(lot -> Lot_043, tool -> tool_a, value -> 0.226139697694592, datetime -> 2020-02-12), Map(lot -> Lot_044, tool -> tool_b, value -> 0.225547616738948, datetime -> 2020-02-13), Map(lot -> Lot_045, tool -> tool_b, value -> 0.993715830613709, datetime -> 2020-02-14), Map(lot -> Lot_046, tool -> tool_a, value -> 0.430607811105118, datetime -> 2020-02-15), Map(lot -> Lot_047, tool -> tool_b, value -> 0.650157557360762, datetime -> 2020-02-16), Map(lot -> Lot_048, tool -> tool_b, value -> 0.753726544739835, datetime -> 2020-02-17), Map(lot -> Lot_049, tool -> tool_a, value -> 0.081783928986208, datetime -> 2020-02-18), Map(lot -> Lot_050, tool -> tool_b, value -> 0.098073256378744, datetime -> 2020-02-19)]]"
      ]
     },
     "execution_count": 18,
     "metadata": {},
     "output_type": "execute_result"
    }
   ],
   "source": [
    "reader.allWithHeaders()"
   ]
  }
 ],
 "metadata": {
  "kernelspec": {
   "display_name": "Scala",
   "language": "scala",
   "name": "scala"
  },
  "language_info": {
   "codemirror_mode": "text/x-scala",
   "file_extension": ".scala",
   "mimetype": "",
   "name": "Scala",
   "nbconverter_exporter": "",
   "version": "2.11.12"
  },
  "toc": {
   "base_numbering": 1,
   "nav_menu": {},
   "number_sections": false,
   "sideBar": false,
   "skip_h1_title": false,
   "title_cell": "Table of Contents",
   "title_sidebar": "Contents",
   "toc_cell": false,
   "toc_position": {},
   "toc_section_display": false,
   "toc_window_display": false
  }
 },
 "nbformat": 4,
 "nbformat_minor": 4
}
